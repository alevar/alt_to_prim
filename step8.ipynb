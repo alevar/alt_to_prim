{
 "cells": [
  {
   "cell_type": "code",
   "execution_count": 1,
   "metadata": {},
   "outputs": [],
   "source": [
    "import pandas as pd\n",
    "import numpy as np\n",
    "import os\n",
    "\n",
    "pd.set_option('display.max_columns',500)\n",
    "\n",
    "gff3Cols=[\"seqid\",\"source\",\"type\",\"start\",\"end\",\"score\",\"strand\",\"phase\",\"attributes\"]\n",
    "\n",
    "intersectCols=[\"chrom\",\n",
    "                \"source\",\n",
    "                \"type\",\n",
    "                \"start\",\n",
    "                \"end\",\n",
    "                \"score\",\n",
    "                \"strand\",\n",
    "                \"phase\",\n",
    "                \"attributes\",\n",
    "                \"chromK\",\n",
    "                \"sourceK\",\n",
    "                \"typeK\",\n",
    "                \"startK\",\n",
    "                \"endK\",\n",
    "                \"scoreK\",\n",
    "                \"strandK\",\n",
    "                \"phaseK\",\n",
    "                \"attributesK\",\n",
    "                \"distance\"]\n",
    "\n",
    "outDir=\"./res_tmp_full\""
   ]
  },
  {
   "cell_type": "code",
   "execution_count": 6,
   "metadata": {},
   "outputs": [
    {
     "name": "stdout",
     "output_type": "stream",
     "text": [
      "70\n",
      "74\n"
     ]
    }
   ],
   "source": [
    "set_genes=set()\n",
    "df=pd.read_csv(outDir+'/none_blat.csv')\n",
    "set_genes=set_genes.union(df[\"geneID_alt\"])\n",
    "set_genes1=set_genes.union(df[\"geneID_alt\"])\n",
    "print(len(set_genes))\n",
    "df=pd.read_csv(outDir+'/none_gmap.csv')\n",
    "set_genes=set_genes.union(df[\"geneID_alt\"])\n",
    "set_genes2=set_genes.union(df[\"geneID_alt\"])\n",
    "print(len(set_genes))"
   ]
  },
  {
   "cell_type": "code",
   "execution_count": 7,
   "metadata": {
    "scrolled": true
   },
   "outputs": [
    {
     "data": {
      "text/plain": [
       "70"
      ]
     },
     "execution_count": 7,
     "metadata": {},
     "output_type": "execute_result"
    }
   ],
   "source": [
    "len(set_genes1.intersection(set_genes2))"
   ]
  }
 ],
 "metadata": {
  "kernelspec": {
   "display_name": "Python 3",
   "language": "python",
   "name": "python3"
  },
  "language_info": {
   "codemirror_mode": {
    "name": "ipython",
    "version": 3
   },
   "file_extension": ".py",
   "mimetype": "text/x-python",
   "name": "python",
   "nbconvert_exporter": "python",
   "pygments_lexer": "ipython3",
   "version": "3.6.6"
  }
 },
 "nbformat": 4,
 "nbformat_minor": 2
}
